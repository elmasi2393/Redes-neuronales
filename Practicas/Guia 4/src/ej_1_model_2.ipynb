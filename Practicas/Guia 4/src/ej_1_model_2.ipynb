{
 "cells": [
  {
   "cell_type": "code",
   "execution_count": 1,
   "metadata": {},
   "outputs": [],
   "source": [
    "import numpy as np"
   ]
  },
  {
   "cell_type": "markdown",
   "metadata": {},
   "source": [
    "Funciones de activación"
   ]
  },
  {
   "cell_type": "code",
   "execution_count": 2,
   "metadata": {},
   "outputs": [],
   "source": [
    "activation = lambda h: np.tanh(h)\n",
    "derivate_act = lambda h: 1 - np.tanh(h)**2"
   ]
  },
  {
   "cell_type": "code",
   "execution_count": 99,
   "metadata": {},
   "outputs": [],
   "source": [
    "# entradas de la compuerta\n",
    "X = np.array([[0, 0], [0, 1], [1, 0], [1, 1]])\n",
    "# salidas\n",
    "Y = np.array([[0], [1], [1], [0]])\n",
    "\n",
    "# Semilla aleatoria para reproducibilidad\n",
    "np.random.seed(42)\n",
    "\n",
    "hidden_dim = 1\n",
    "input_dim = 2\n",
    "\n",
    "# Pesos entre capa de entrada y capa oculta (2x1)\n",
    "weights_input_hidden = np.random.rand(input_dim, hidden_dim) \n",
    "# Pesos entre capa oculta y capa de salida (3x1)\n",
    "weights_hidden_output = np.random.rand(hidden_dim + input_dim, 1)\n",
    "\n",
    "b0 = np.random.rand(hidden_dim)\n",
    "b1 = np.random.rand(1)\n",
    "\n",
    "# Definimos la tasa de aprendizaje\n",
    "learning_rate = 0.1"
   ]
  },
  {
   "cell_type": "code",
   "execution_count": 100,
   "metadata": {},
   "outputs": [],
   "source": [
    "def NN(x, w_ih, w_ho, b1, b0):#+\n",
    "    # Vj = np.zeros((X.shape[0], w_ih.shape[1]))\n",
    "    oi = np.zeros((X.shape[0], w_ho.shape[1]))\n",
    "\n",
    "    for mu in range(X.shape[0]):    # itero en todos los ejemplos\n",
    "        # input -> hidden\n",
    "        Vj = activation(np.dot(X[mu], w_ih) + b0)\n",
    "        # print(Vj[mu].shape, x[mu].shape)\n",
    "        # concateno la salida de la oculta con las entradas\n",
    "        concatenated_input = np.concatenate((x[mu], Vj))\n",
    "        # hidden -> output\n",
    "        oi[mu] = activation(np.dot(concatenated_input, w_ho) + b1)\n",
    "    \n",
    "    return oi"
   ]
  },
  {
   "cell_type": "code",
   "execution_count": 103,
   "metadata": {},
   "outputs": [],
   "source": [
    "epochs = 1000\n",
    "\n",
    "for i in range(epochs):\n",
    "    grad_w_0_1 = np.zeros_like(weights_input_hidden)\n",
    "    grad_w_1_2 = np.zeros_like(weights_hidden_output)\n",
    "    grad_b0 = np.zeros_like(b0)\n",
    "    grad_b1 = np.zeros_like(b1)\n",
    "    \n",
    "    for mu, x in enumerate(X):  # Itero en los ejemplos\n",
    "        # Forward projection\n",
    "        hj = np.dot(x, weights_input_hidden) + b0\n",
    "        Vj = activation(hj)\n",
    "\n",
    "        concatenate_input = np.concatenate((x, Vj))\n",
    "\n",
    "        # print('concatenate_input shape ', concatenate_input.shape)\n",
    "\n",
    "        hi = np.dot(concatenate_input, weights_hidden_output) + b1\n",
    "        oi = activation(hi)\n",
    "\n",
    "        # Backpropagation\n",
    "        # hidden -> output\n",
    "        delta_i_mu = derivate_act(hi) * (Y[mu] - oi)\n",
    "        grad_w_1_2 += np.outer(concatenate_input, delta_i_mu)\n",
    "        grad_b1 += delta_i_mu.flatten()\n",
    "\n",
    "        # input -> hidden\n",
    "        delta_j_mu = derivate_act(hj) * np.dot(weights_hidden_output[input_dim:], delta_i_mu)\n",
    "        grad_w_0_1 += np.outer(x, delta_j_mu)\n",
    "        grad_b0 += delta_j_mu.flatten()\n",
    "\n",
    "    # Actualizo los pesos y los bias\n",
    "    weights_input_hidden += learning_rate * grad_w_0_1\n",
    "    weights_hidden_output += learning_rate * grad_w_1_2\n",
    "    b0 += learning_rate * grad_b0\n",
    "    b1 += learning_rate * grad_b1"
   ]
  },
  {
   "cell_type": "code",
   "execution_count": 104,
   "metadata": {},
   "outputs": [
    {
     "name": "stdout",
     "output_type": "stream",
     "text": [
      "[[0.00188283]\n",
      " [0.93288903]\n",
      " [0.93306402]\n",
      " [0.012555  ]]\n"
     ]
    }
   ],
   "source": [
    "print(NN(X, weights_input_hidden, weights_hidden_output, b1, b0))"
   ]
  },
  {
   "cell_type": "code",
   "execution_count": null,
   "metadata": {},
   "outputs": [],
   "source": []
  }
 ],
 "metadata": {
  "kernelspec": {
   "display_name": "repo",
   "language": "python",
   "name": "python3"
  },
  "language_info": {
   "codemirror_mode": {
    "name": "ipython",
    "version": 3
   },
   "file_extension": ".py",
   "mimetype": "text/x-python",
   "name": "python",
   "nbconvert_exporter": "python",
   "pygments_lexer": "ipython3",
   "version": "3.12.4"
  }
 },
 "nbformat": 4,
 "nbformat_minor": 2
}
